{
 "cells": [
  {
   "cell_type": "markdown",
   "id": "1a0650b6-4006-4f28-9ed4-cae1d2fdbb1a",
   "metadata": {},
   "source": [
    "# Data Science Tools and Ecosystem"
   ]
  },
  {
   "cell_type": "markdown",
   "id": "76efd1a0-6b85-486e-990a-2396a5235687",
   "metadata": {},
   "source": [
    "### In this notebook, Data Science Tools and Ecosystem are summarized."
   ]
  },
  {
   "cell_type": "markdown",
   "id": "b036a238-7365-4ba9-9b81-6179d403166d",
   "metadata": {},
   "source": [
    "#### Objectives: \n",
    "* **List popular languages for Data Science**\n",
    "* **List common used libraries for Data Science**\n",
    "* **List common used development enviorments for Data Science**"
   ]
  },
  {
   "cell_type": "markdown",
   "id": "ba88f640-fed4-4276-b9c0-2d54bc42ec4f",
   "metadata": {},
   "source": [
    "#### Some of the popular languages that Data Scientists use are:\n",
    "* Python\n",
    "* R\n",
    "* SQL\n",
    "* Java\n",
    "* Scala\n",
    "* Julia"
   ]
  },
  {
   "cell_type": "markdown",
   "id": "11a8f1aa-2930-4b16-8dc0-5b83773e8a5f",
   "metadata": {},
   "source": [
    "#### Some of the commonly used libraries used by Data Scientists include:\n",
    "* Pandas\n",
    "* Numpy\n",
    "* SciPy\n",
    "* Plotly"
   ]
  },
  {
   "cell_type": "markdown",
   "id": "9db4e794-c885-4897-a7e1-c0a2a2b05bc3",
   "metadata": {},
   "source": [
    "|Data Science Tools|\n",
    "|------------------|\n",
    "|Jupyter Notebook  |\n",
    "|R Studio          |\n",
    "|Git Hub           |"
   ]
  },
  {
   "cell_type": "markdown",
   "id": "e901d815-995b-4336-ac8b-9e4472622d94",
   "metadata": {},
   "source": [
    "### Below are a few examples of evaluating arithmetic expressions in Python"
   ]
  },
  {
   "cell_type": "code",
   "execution_count": 20,
   "id": "885f5e0a-280b-4068-b60f-2ea43ef48d73",
   "metadata": {},
   "outputs": [
    {
     "data": {
      "text/plain": [
       "6"
      ]
     },
     "execution_count": 20,
     "metadata": {},
     "output_type": "execute_result"
    }
   ],
   "source": [
    "3 + 3"
   ]
  },
  {
   "cell_type": "code",
   "execution_count": 22,
   "id": "e936d2bf-be7c-4777-a67a-afb501fdddf4",
   "metadata": {},
   "outputs": [
    {
     "data": {
      "text/plain": [
       "10"
      ]
     },
     "execution_count": 22,
     "metadata": {},
     "output_type": "execute_result"
    }
   ],
   "source": [
    "2*5"
   ]
  },
  {
   "cell_type": "code",
   "execution_count": 24,
   "id": "f70cf067-2ec5-4dfe-be51-efe5d265c61e",
   "metadata": {},
   "outputs": [
    {
     "data": {
      "text/plain": [
       "0.25"
      ]
     },
     "execution_count": 24,
     "metadata": {},
     "output_type": "execute_result"
    }
   ],
   "source": [
    "5/20"
   ]
  },
  {
   "cell_type": "code",
   "execution_count": 26,
   "id": "8367c792-88be-4d61-95d8-08c65985ce00",
   "metadata": {},
   "outputs": [
    {
     "data": {
      "text/plain": [
       "15"
      ]
     },
     "execution_count": 26,
     "metadata": {},
     "output_type": "execute_result"
    }
   ],
   "source": [
    "20-5"
   ]
  },
  {
   "cell_type": "code",
   "execution_count": 28,
   "id": "ad9fba0d-0194-4ae0-95cd-a2a29da3aa63",
   "metadata": {},
   "outputs": [
    {
     "data": {
      "text/plain": [
       "17"
      ]
     },
     "execution_count": 28,
     "metadata": {},
     "output_type": "execute_result"
    }
   ],
   "source": [
    "(3*4)+5\n",
    "# This a simple arithmetic expression to mutiply then add integers"
   ]
  },
  {
   "cell_type": "code",
   "execution_count": 30,
   "id": "73a42a47-419f-4c32-a59e-40650c6eebf8",
   "metadata": {},
   "outputs": [
    {
     "data": {
      "text/plain": [
       "3.3333333333333335"
      ]
     },
     "execution_count": 30,
     "metadata": {},
     "output_type": "execute_result"
    }
   ],
   "source": [
    "# This will convert 200 minutes to hours by diving by 60\n",
    "200/60"
   ]
  },
  {
   "cell_type": "markdown",
   "id": "b07fe315-8cf8-43cc-aa7e-4dcd59ae171d",
   "metadata": {},
   "source": [
    "## Author\n",
    "## Diego de Botton"
   ]
  },
  {
   "cell_type": "code",
   "execution_count": null,
   "id": "9d89f076-3129-46fe-b08b-21ce08c8ee65",
   "metadata": {},
   "outputs": [],
   "source": []
  }
 ],
 "metadata": {
  "kernelspec": {
   "display_name": "Python 3 (ipykernel)",
   "language": "python",
   "name": "python3"
  },
  "language_info": {
   "codemirror_mode": {
    "name": "ipython",
    "version": 3
   },
   "file_extension": ".py",
   "mimetype": "text/x-python",
   "name": "python",
   "nbconvert_exporter": "python",
   "pygments_lexer": "ipython3",
   "version": "3.12.4"
  }
 },
 "nbformat": 4,
 "nbformat_minor": 5
}
